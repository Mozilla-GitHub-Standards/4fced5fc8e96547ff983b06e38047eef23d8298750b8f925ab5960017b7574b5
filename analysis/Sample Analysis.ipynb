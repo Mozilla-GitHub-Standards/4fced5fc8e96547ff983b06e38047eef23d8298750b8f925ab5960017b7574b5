{
 "cells": [
  {
   "cell_type": "code",
   "execution_count": null,
   "metadata": {},
   "outputs": [],
   "source": [
    "import pandas as pd\n",
    "import pyarrow as pa\n",
    "import pyarrow.parquet as pq\n",
    "import s3fs\n",
    "import six\n",
    "from pyarrow.filesystem import S3FSWrapper  # noqa\n",
    "from pyarrow.parquet import ParquetManifest"
   ]
  },
  {
   "cell_type": "code",
   "execution_count": null,
   "metadata": {},
   "outputs": [],
   "source": [
    "BUCKET = 'openwpm-crawls'\n",
    "CRAWL_DIR = '2018-09-11_top_10k_stateless-batches'\n",
    "BUCKET_URI = '%s/%s/visits/%%s' % (BUCKET, CRAWL_DIR)\n",
    "fs = s3fs.S3FileSystem()"
   ]
  },
  {
   "cell_type": "code",
   "execution_count": null,
   "metadata": {},
   "outputs": [],
   "source": [
    "# Load the data\n",
    "table_name = 'http_requests'\n",
    "reqs = pq.ParquetDataset(\n",
    "    BUCKET_URI % table_name,\n",
    "    filesystem=fs,\n",
    "    metadata_nthreads=4\n",
    ").read_pandas().to_pandas()"
   ]
  }
 ],
 "metadata": {
  "kernelspec": {
   "display_name": "Python 2",
   "language": "python",
   "name": "python2"
  },
  "language_info": {
   "codemirror_mode": {
    "name": "ipython",
    "version": 2
   },
   "file_extension": ".py",
   "mimetype": "text/x-python",
   "name": "python",
   "nbconvert_exporter": "python",
   "pygments_lexer": "ipython2",
   "version": "2.7.12"
  }
 },
 "nbformat": 4,
 "nbformat_minor": 2
}
