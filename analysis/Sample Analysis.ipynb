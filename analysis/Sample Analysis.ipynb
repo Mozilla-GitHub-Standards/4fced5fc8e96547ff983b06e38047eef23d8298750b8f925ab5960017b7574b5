{
 "cells": [
  {
   "cell_type": "code",
   "execution_count": 29,
   "metadata": {},
   "outputs": [],
   "source": [
    "import json\n",
    "import pandas as pd\n",
    "import pyarrow as pa\n",
    "import pyarrow.parquet as pq\n",
    "import re\n",
    "import s3fs\n",
    "import six\n",
    "from pyarrow.filesystem import S3FSWrapper"
   ]
  },
  {
   "cell_type": "code",
   "execution_count": 3,
   "metadata": {},
   "outputs": [],
   "source": [
    "# import some analysis utilities from https://github.com/englehardt/crawl_utils\n",
    "import sys\n",
    "sys.path.append('./crawl_utils/')\n",
    "import domain_utils as du\n",
    "import analysis_utils as au"
   ]
  },
  {
   "cell_type": "code",
   "execution_count": 4,
   "metadata": {},
   "outputs": [],
   "source": [
    "BUCKET = 'openwpm-crawls'\n",
    "CRAWL_DIR = '2018-09-11_top_20k_stateless'\n",
    "BUCKET_URI = '%s/%s/visits/%%s' % (BUCKET, CRAWL_DIR)\n",
    "fs = s3fs.S3FileSystem()"
   ]
  },
  {
   "cell_type": "markdown",
   "metadata": {},
   "source": [
    "# HTTP Requests"
   ]
  },
  {
   "cell_type": "code",
   "execution_count": 10,
   "metadata": {},
   "outputs": [],
   "source": [
    "# Load the data\n",
    "table_name = 'http_requests'\n",
    "reqs = pq.ParquetDataset(\n",
    "    BUCKET_URI % table_name,\n",
    "    filesystem=fs,\n",
    "    metadata_nthreads=4\n",
    ").read_pandas().to_pandas()"
   ]
  },
  {
   "cell_type": "markdown",
   "metadata": {},
   "source": [
    "### Add some additional columns to help with analysis"
   ]
  },
  {
   "cell_type": "code",
   "execution_count": 11,
   "metadata": {},
   "outputs": [],
   "source": [
    "# Add the public suffix + 1 of a bunch of the URL columns\n",
    "reqs['url_ps1'] = reqs['url'].apply(du.get_ps_plus_1)\n",
    "reqs['top_ps1'] = reqs['top_level_url'].apply(lambda x: du.get_ps_plus_1(x) if x is not None else None)\n",
    "reqs['loading_ps1'] = reqs['loading_href'].apply(lambda x: du.get_ps_plus_1(x) if x is not None else None)"
   ]
  },
  {
   "cell_type": "code",
   "execution_count": 12,
   "metadata": {},
   "outputs": [],
   "source": [
    "# Parse some info out of the call stack\n",
    "reqs['stack_scripts'] = reqs['req_call_stack'].apply(au.get_script_urls_from_call_stack_as_set)\n",
    "reqs['stack_ps1s'] = reqs['stack_scripts'].apply(lambda x: set([du.get_ps_plus_1(y) for y in x]))"
   ]
  },
  {
   "cell_type": "code",
   "execution_count": 13,
   "metadata": {},
   "outputs": [],
   "source": [
    "total_sites = reqs['top_level_url'].nunique()"
   ]
  },
  {
   "cell_type": "markdown",
   "metadata": {},
   "source": [
    "### How many sites is doubleclick.net loaded on?"
   ]
  },
  {
   "cell_type": "code",
   "execution_count": 14,
   "metadata": {},
   "outputs": [
    {
     "data": {
      "text/plain": [
       "0.6348133848133848"
      ]
     },
     "execution_count": 14,
     "metadata": {},
     "output_type": "execute_result"
    }
   ],
   "source": [
    "reqs[reqs['url_ps1'] == 'doubleclick.net'].top_level_url.nunique() / float(total_sites)"
   ]
  },
  {
   "cell_type": "code",
   "execution_count": 15,
   "metadata": {},
   "outputs": [
    {
     "data": {
      "text/plain": [
       "0.7061347061347061"
      ]
     },
     "execution_count": 15,
     "metadata": {},
     "output_type": "execute_result"
    }
   ],
   "source": [
    "reqs[reqs['url_ps1'] == 'google-analytics.com'].top_level_url.nunique() / float(total_sites)"
   ]
  },
  {
   "cell_type": "markdown",
   "metadata": {},
   "source": [
    "### What domains does doubleclick.net load other resources from?"
   ]
  },
  {
   "cell_type": "code",
   "execution_count": 16,
   "metadata": {},
   "outputs": [
    {
     "data": {
      "text/plain": [
       "u'Y.X/b@http://pagead2.googlesyndication.com/pagead/show_ads.js:1:42031;null\\nY.X@http://pagead2.googlesyndication.com/pagead/show_ads.js:1:42107;null\\nMe@http://pagead2.googlesyndication.com/pagead/show_ads.js:1:42381;null\\nNe@http://pagead2.googlesyndication.com/pagead/show_ads.js:1:43091;null\\nnull@http://pagead2.googlesyndication.com/pagead/show_ads.js:1:53260;null\\nAc@http://pagead2.googlesyndication.com/pagead/show_ads.js:1:15521;null\\nEc@http://pagead2.googlesyndication.com/pagead/show_ads.js:1:18425;null\\nnull@http://pagead2.googlesyndication.com/pagead/show_ads.js:1:51995;null\\nnull@http://pagead2.googlesyndication.com/pagead/show_ads.js:1:2;null'"
      ]
     },
     "execution_count": 16,
     "metadata": {},
     "output_type": "execute_result"
    }
   ],
   "source": [
    "reqs[\n",
    "    reqs.req_call_stack != ''\n",
    "]['req_call_stack'].iloc[0]"
   ]
  },
  {
   "cell_type": "code",
   "execution_count": 17,
   "metadata": {
    "scrolled": true
   },
   "outputs": [
    {
     "data": {
      "text/plain": [
       "7                                {googlesyndication.com}\n",
       "8                                {googlesyndication.com}\n",
       "9                                {googlesyndication.com}\n",
       "10                               {googlesyndication.com}\n",
       "12                                      {applyloan.club}\n",
       "13               {applyloan.club, googlesyndication.com}\n",
       "14               {applyloan.club, googlesyndication.com}\n",
       "15                                         {histats.com}\n",
       "16                               {googlesyndication.com}\n",
       "17               {applyloan.club, googlesyndication.com}\n",
       "24                                     {doubleclick.net}\n",
       "27                                     {doubleclick.net}\n",
       "28                                     {doubleclick.net}\n",
       "29                                     {doubleclick.net}\n",
       "30                               {googlesyndication.com}\n",
       "33                                         {adblade.com}\n",
       "40                               {googlesyndication.com}\n",
       "41                                         {adblade.com}\n",
       "42                               {scorecardresearch.com}\n",
       "43                                      {quantserve.com}\n",
       "45                               {googlesyndication.com}\n",
       "46                                      {quantserve.com}\n",
       "47                               {googlesyndication.com}\n",
       "48                               {googlesyndication.com}\n",
       "49                               {googlesyndication.com}\n",
       "74                                     {platinaline.com}\n",
       "138                                    {platinaline.com}\n",
       "139                                    {platinaline.com}\n",
       "141                                    {platinaline.com}\n",
       "156                               {google-analytics.com}\n",
       "                               ...                      \n",
       "2874213    {tampabay.com, d25dfknw9ghxs6.cloudfront.net}\n",
       "2874214    {tampabay.com, d25dfknw9ghxs6.cloudfront.net}\n",
       "2874222                          {googlesyndication.com}\n",
       "2874223                          {googlesyndication.com}\n",
       "2874224                          {googlesyndication.com}\n",
       "2874225                          {googlesyndication.com}\n",
       "2874226                          {googlesyndication.com}\n",
       "2874227                          {googlesyndication.com}\n",
       "2874228                          {googlesyndication.com}\n",
       "2874229                          {googlesyndication.com}\n",
       "2874231    {tampabay.com, d25dfknw9ghxs6.cloudfront.net}\n",
       "2874232    {tampabay.com, d25dfknw9ghxs6.cloudfront.net}\n",
       "2874233    {tampabay.com, d25dfknw9ghxs6.cloudfront.net}\n",
       "2874236    {tampabay.com, d25dfknw9ghxs6.cloudfront.net}\n",
       "2874237    {tampabay.com, d25dfknw9ghxs6.cloudfront.net}\n",
       "2874238    {tampabay.com, d25dfknw9ghxs6.cloudfront.net}\n",
       "2874239         {googlesyndication.com, doubleclick.net}\n",
       "2874240                                {doubleclick.net}\n",
       "2874245                  {d2na2p72vtqyok.cloudfront.net}\n",
       "2874246                  {d2na2p72vtqyok.cloudfront.net}\n",
       "2874247                  {d2na2p72vtqyok.cloudfront.net}\n",
       "2874256         {googlesyndication.com, doubleclick.net}\n",
       "2874257                                {doubleclick.net}\n",
       "2874258                                       {2mdn.net}\n",
       "2874259                                       {2mdn.net}\n",
       "2874260                                       {2mdn.net}\n",
       "2874264                  {d2na2p72vtqyok.cloudfront.net}\n",
       "2874265                  {d2na2p72vtqyok.cloudfront.net}\n",
       "2874267                  {d2na2p72vtqyok.cloudfront.net}\n",
       "2874268                  {d2na2p72vtqyok.cloudfront.net}\n",
       "Name: stack_ps1s, Length: 1307361, dtype: object"
      ]
     },
     "execution_count": 17,
     "metadata": {},
     "output_type": "execute_result"
    }
   ],
   "source": [
    "reqs[\n",
    "    reqs.req_call_stack.apply(lambda x: len(x) > 0)\n",
    "]['stack_ps1s']"
   ]
  },
  {
   "cell_type": "code",
   "execution_count": 18,
   "metadata": {
    "scrolled": true
   },
   "outputs": [
    {
     "data": {
      "text/plain": [
       "url_ps1\n",
       "googlesyndication.com            37987\n",
       "doubleclick.net                  34733\n",
       "google.com                        6953\n",
       "ampproject.org                    5771\n",
       "2mdn.net                          3154\n",
       "moatads.com                       1367\n",
       "doubleverify.com                  1046\n",
       "adnxs.com                         1017\n",
       "rubiconproject.com                1013\n",
       "gstatic.com                        967\n",
       "googletagservices.com              915\n",
       "adsafeprotected.com                887\n",
       "advertising.com                    519\n",
       "openx.net                          452\n",
       "casalemedia.com                    381\n",
       "amazon-adsystem.com                335\n",
       "quantserve.com                     294\n",
       "criteo.com                         261\n",
       "google-analytics.com               255\n",
       "gumgum.com                         246\n",
       "adblade.com                        221\n",
       "pubmatic.com                       214\n",
       "clarium.global.ssl.fastly.net      177\n",
       "lijit.com                          174\n",
       "myvisualiq.net                     169\n",
       "serving-sys.com                    166\n",
       "fonts.googleapis.com               154\n",
       "sharethrough.com                   145\n",
       "ictv.ua                            134\n",
       "facebook.net                       125\n",
       "                                 ...  \n",
       "flashnews.gr                         0\n",
       "ninjakiwi.com                        0\n",
       "fantasynamegenerators.com            0\n",
       "tn.com.ar                            0\n",
       "womenshealthmag.com                  0\n",
       "aarp.org                             0\n",
       "rappler.com                          0\n",
       "zacks.com                            0\n",
       "rotoworld.com                        0\n",
       "businesstoday.com.tw                 0\n",
       "diariocorreo.pe                      0\n",
       "mnn.com                              0\n",
       "imguol.com.br                        0\n",
       "kvraudio.com                         0\n",
       "clubic.com                           0\n",
       "moveaws.com                          0\n",
       "videosmaller.com                     0\n",
       "skysports.com                        0\n",
       "sinonimos.com.br                     0\n",
       "maximonline.ru                       0\n",
       "mtonews.com                          0\n",
       "delish.com                           0\n",
       "significados.com.br                  0\n",
       "kinja-img.com                        0\n",
       "geekdo-static.com                    0\n",
       "saharareporters.com                  0\n",
       "biography.com                        0\n",
       "makeuseof.com                        0\n",
       "abovethelaw.com                      0\n",
       "popsci.com                           0\n",
       "Name: top_level_url, Length: 1329, dtype: int64"
      ]
     },
     "execution_count": 18,
     "metadata": {},
     "output_type": "execute_result"
    }
   ],
   "source": [
    "reqs[\n",
    "    reqs.stack_ps1s.apply(lambda x: 'doubleclick.net' in x)\n",
    "].groupby('url_ps1').top_level_url.count().sort_values(ascending=False)"
   ]
  },
  {
   "cell_type": "markdown",
   "metadata": {},
   "source": [
    "# Javascript Calls"
   ]
  },
  {
   "cell_type": "code",
   "execution_count": 5,
   "metadata": {},
   "outputs": [],
   "source": [
    "# Load the data\n",
    "table_name = 'javascript'\n",
    "js = pq.ParquetDataset(\n",
    "    BUCKET_URI % table_name,\n",
    "    filesystem=fs,\n",
    "    metadata_nthreads=4\n",
    ").read_pandas().to_pandas()"
   ]
  },
  {
   "cell_type": "code",
   "execution_count": 8,
   "metadata": {},
   "outputs": [],
   "source": [
    "# Add the public suffix + 1 of a bunch of the URL columns\n",
    "js['script_ps1'] = js['script_url'].apply(lambda x: du.get_ps_plus_1(x) if x is not None else None)\n",
    "js['top_ps1'] = js['top_level_url'].apply(lambda x: du.get_ps_plus_1(x) if x is not None else None)\n",
    "js['document_ps1'] = js['document_url'].apply(lambda x: du.get_ps_plus_1(x) if x is not None else None)"
   ]
  },
  {
   "cell_type": "markdown",
   "metadata": {},
   "source": [
    "#### Canvas font fingerprinting"
   ]
  },
  {
   "cell_type": "code",
   "execution_count": 36,
   "metadata": {},
   "outputs": [],
   "source": [
    "font_shorthand = re.compile(r\"^\\s*(?=(?:(?:[-a-z]+\\s*){0,2}(italic|oblique))?)(?=(?:(?:[-a-z]+\\s*){0,2}(small-caps))?)(?=(?:(?:[-a-z]+\\s*){0,2}(bold(?:er)?|lighter|[1-9]00))?)(?:(?:normal|\\1|\\2|\\3)\\s*){0,3}((?:xx?-)?(?:small|large)|medium|smaller|larger|[.\\d]+(?:\\%|in|[cem]m|ex|p[ctx]))(?:\\s*\\/\\s*(normal|[.\\d]+(?:\\%|in|[cem]m|ex|p[ctx])))?\\s*([-_\\{\\}\\(\\)\\&!\\',\\*\\.\\\"\\sa-zA-Z0-9]+?)\\s*$\")"
   ]
  },
  {
   "cell_type": "code",
   "execution_count": null,
   "metadata": {},
   "outputs": [],
   "source": [
    "# Grab all of the canvas calls\n",
    "js[\n",
    "    js.symbol.str.startswith('CanvasRenderingContext2D')\n",
    "]"
   ]
  },
  {
   "cell_type": "code",
   "execution_count": 25,
   "metadata": {
    "scrolled": true
   },
   "outputs": [
    {
     "data": {
      "text/plain": [
       "script_ps1\n",
       "mathtag.com                          55265\n",
       "adbetnet.com                         32241\n",
       "admicro.vn                            9000\n",
       "createjs.com                          8827\n",
       "tradingview.com                       4998\n",
       "stripe.network                        1682\n",
       "infernotions.com                      1000\n",
       "nooncdn.com                            500\n",
       "radial.com                             500\n",
       "du3rt6yhb1dqh.cloudfront.net           500\n",
       "stanza.co                              415\n",
       "online-metrix.net                      348\n",
       "c4assets.com                           200\n",
       "paymentsmb.com                         174\n",
       "werally.co                             174\n",
       "signifyd.com                           174\n",
       "cloudflare.com                         151\n",
       "clinch.co                              149\n",
       "codeproject.global.ssl.fastly.net      125\n",
       "jrjimg.cn                              110\n",
       "st8fm.com                               95\n",
       "amap.com                                83\n",
       "mfilterit.com                           76\n",
       "nudatasecurity.com                      68\n",
       "cnmo-img.com.cn                         47\n",
       "d13l3vrk0vhr9w.cloudfront.net           41\n",
       "google.com                              40\n",
       "tableau.com                             40\n",
       "sndcdn.com                              38\n",
       "googlesyndication.com                   32\n",
       "cryptocompare.com                       20\n",
       "bootcss.com                             13\n",
       "cdn-apple.com                           12\n",
       "ocdn.eu                                 11\n",
       "theabcdn.com                            10\n",
       "bac-assets.com                           8\n",
       "cdn-net.com                              5\n",
       "wlresources.com                          4\n",
       "aa-cdn.net                               4\n",
       "goroost.com                              3\n",
       "boxcdn.net                               2\n",
       "apps-host.com                            2\n",
       "exarab.com                               2\n",
       "cdnst.net                                1\n",
       "geocomply.com                            1\n",
       "Name: top_ps1, dtype: int64"
      ]
     },
     "execution_count": 25,
     "metadata": {},
     "output_type": "execute_result"
    }
   ],
   "source": [
    "js[\n",
    "    (js.symbol == 'CanvasRenderingContext2D.measureText') &\n",
    "    (js.script_ps1 != js.top_ps1)\n",
    "].groupby('script_ps1').top_ps1.count().sort_values(ascending=False)"
   ]
  },
  {
   "cell_type": "code",
   "execution_count": 32,
   "metadata": {},
   "outputs": [
    {
     "data": {
      "text/plain": [
       "array([u'abcdefghijklmnopqrstuvxywzABCDEFGHIJKLMNOPQRSTUVXYWZ0123456789'],\n",
       "      dtype=object)"
      ]
     },
     "execution_count": 32,
     "metadata": {},
     "output_type": "execute_result"
    }
   ],
   "source": [
    "js[\n",
    "    (js.symbol == 'CanvasRenderingContext2D.measureText') &\n",
    "    (js.script_ps1 != js.top_ps1) & \n",
    "    (js.script_ps1 == 'admicro.vn')\n",
    "].arguments.apply(lambda x: json.loads(x)[\"0\"]).unique()"
   ]
  },
  {
   "cell_type": "code",
   "execution_count": 38,
   "metadata": {},
   "outputs": [
    {
     "data": {
      "text/plain": [
       "array([u'sans-serif', u'\"book antiqua\", sans-serif',\n",
       "       u'\"palatino linotype\", sans-serif', u'\"constantia\", sans-serif',\n",
       "       u'\"ms mincho\", sans-serif', u'\"browallia new\", sans-serif',\n",
       "       u'\".vntime\", sans-serif', u'\"segoe ui semibold\", sans-serif',\n",
       "       u'\"segoe ui\", sans-serif', u'\"century gothic\", sans-serif',\n",
       "       u'\"vni-times\", sans-serif', u'\"mt extra\", sans-serif',\n",
       "       u'\"mt\", sans-serif', u'\"vni-maria\", sans-serif',\n",
       "       u'\"viner hand itc\", sans-serif', u'\"mistral\", sans-serif',\n",
       "       u'\"lucida sans\", sans-serif', u'\"arial unicode ms\", sans-serif',\n",
       "       u'\"vni-linus\", sans-serif', u'\"vni-awchon\", sans-serif',\n",
       "       u'\"rage italic\", sans-serif', u'\"rage\", sans-serif',\n",
       "       u'\"papyrus\", sans-serif', u'\"french script mt\", sans-serif',\n",
       "       u'\"vni-thufap2\", sans-serif', u'\"wst_swed\", sans-serif',\n",
       "       u'\".tmc-ong do\", sans-serif', u'\"vntimes2\", sans-serif',\n",
       "       u'\"calibri light\", sans-serif', u'\"calibri\", sans-serif',\n",
       "       u'\"vni-shellal\", sans-serif', u'\"vni-rush\", sans-serif',\n",
       "       u'\"sansserif\", sans-serif', u'\"segoe ui semilight\", sans-serif',\n",
       "       u'\"vni-pagon\", sans-serif', u'\"vni 13 annabelle\", sans-serif',\n",
       "       u'\"vncommercial script\", sans-serif',\n",
       "       u'\"teamviewer10\", sans-serif', u'\"vni helve condense\", sans-serif',\n",
       "       u'\"vni helveense\", sans-serif', u'\"bankgothic md bt\", sans-serif',\n",
       "       u'\"verdana ref\", sans-serif', u'\"abc sans serif\", sans-serif',\n",
       "       u'\"myanmar text\", sans-serif', u'\"vineta bt\", sans-serif',\n",
       "       u'\"swis721 bt\", sans-serif', u'\"isoct2\", sans-serif',\n",
       "       u'\"thanhoa\", sans-serif', u'\"vnncentury2\", sans-serif',\n",
       "       u'\"vps courier hoa\", sans-serif', u'\"greeks\", sans-serif',\n",
       "       u'\"vnhelvins2\", sans-serif', u'\"anklepants\", sans-serif',\n",
       "       u'\"vnbookman\", sans-serif', u'\"vnmystical\", sans-serif',\n",
       "       u'\"vffree45\", sans-serif', u'\"giolinh\", sans-serif',\n",
       "       u'\"smudger let\", sans-serif', u'\"arabic transparent\", sans-serif',\n",
       "       u'\"architecture\", sans-serif', u'\"myriad pro\", sans-serif',\n",
       "       u'\"andong\", sans-serif', u'\"amazone\", sans-serif',\n",
       "       u'\"letter gothic std\", sans-serif', u'\"teamviewer9\", sans-serif',\n",
       "       u'\"vps my tho hoa\", sans-serif', u'\"palatino\", sans-serif',\n",
       "       u'\"vnbanff\", sans-serif', u'\"musicalsymbols\", sans-serif',\n",
       "       u'\"adobe hebrew\", sans-serif',\n",
       "       u'\"vni 01 linotypezapfino one\", sans-serif',\n",
       "       u'\"phuongthaoh 1.1\", sans-serif', u'\"times\", sans-serif',\n",
       "       u'\"avantgarde\", sans-serif', u'\"zapfdingbats bt\", sans-serif',\n",
       "       u'\"a charming font\", sans-serif', u'\"banmethuot\", sans-serif',\n",
       "       u'\"georgia ref\", sans-serif', u'\"clarendon\", sans-serif',\n",
       "       u'\"parry hotter\", sans-serif', u'\"vnhelvet\", sans-serif',\n",
       "       u'\"typoupright bt\", sans-serif', u'\"vntime\", sans-serif',\n",
       "       u'\"nueva std\", sans-serif', u'\"ankecalligraph\", sans-serif',\n",
       "       u'\"dt-umbrella\", sans-serif', u'\"vni centur\", sans-serif',\n",
       "       u'\"kv-mariage\", sans-serif', u'\"vni-ongdo (nobita)\", sans-serif',\n",
       "       u'\"vnmonotype corsiva\", sans-serif', u'\"futura\", sans-serif',\n",
       "       u'\"ocr-a bt\", sans-serif', u'\"antique\", sans-serif',\n",
       "       u'\"vn-universityroman\", sans-serif',\n",
       "       u'\"ds sans serif\", sans-serif', u'\"thahuongh 1.1\", sans-serif',\n",
       "       u'\"furniture\", sans-serif', u'\"uvn vi vi\", sans-serif',\n",
       "       u'\"fences\", sans-serif', u'\"dejavu sans\", sans-serif',\n",
       "       u'\"angiang\", sans-serif', u'\"hl thuphap 2bk\", sans-serif',\n",
       "       u'\"tuyhoa\", sans-serif', u'\"teamviewer8\", sans-serif',\n",
       "       u'\"usuzi\", sans-serif', u'\"monotype sorts\", sans-serif',\n",
       "       u'\"dreamscar\", sans-serif', u'\"vffree17\", sans-serif',\n",
       "       u'\"bell gothic std light\", sans-serif',\n",
       "       u'\"bell gothic std\", sans-serif', u'\"uvn hong ha\", sans-serif',\n",
       "       u'\"arno pro\", sans-serif', u'\"mt extra tiger\", sans-serif',\n",
       "       u'\"mt tiger\", sans-serif', u'\"humanst521 bt\", sans-serif',\n",
       "       u'\"wp cyrillica\", sans-serif', u'\"svnhelvetica\", sans-serif',\n",
       "       u'\"ms reference serif\", sans-serif', u'\"phtimes\", sans-serif',\n",
       "       u'\"angelashand\", sans-serif', u'\"scriptina\", sans-serif',\n",
       "       u'\"map symbols\", sans-serif', u'\"vs2 sample font\", sans-serif',\n",
       "       u'\"vn-sans-serif\", sans-serif', u'\"lingoes unicode\", sans-serif',\n",
       "       u'\"parkavenue bt\", sans-serif', u'\"hl freewrite\", sans-serif',\n",
       "       u'\"blade runner movie font\", sans-serif',\n",
       "       u'\"graffiti treat\", sans-serif', u'\"marionshand\", sans-serif',\n",
       "       u'\"pokemon hollow\", sans-serif', u'\"loki cola\", sans-serif',\n",
       "       u'\"ruritania\", sans-serif', u'\"distortia\", sans-serif',\n",
       "       u'\"uni tap viet 0\", sans-serif', u'\"vsdict phonetic\", sans-serif',\n",
       "       u'\".vntahoma\", sans-serif', u'\"source sans pro\", sans-serif',\n",
       "       u'\"vniwed1\", sans-serif',\n",
       "       u'\"abadi mt condensed light\", sans-serif',\n",
       "       u'\"abadi mt condensed\", sans-serif', u'\"abadi mt\", sans-serif',\n",
       "       u'\"hgsheiseiminchotaiw9\", sans-serif',\n",
       "       u'\"avantgarde bk bt\", sans-serif', u'\"almonte snow\", sans-serif',\n",
       "       u'\"bizarro\", sans-serif', u'\"eurostile\", sans-serif',\n",
       "       u'\"plasma drip brk\", sans-serif',\n",
       "       u'\"sketchflow print\", sans-serif',\n",
       "       u'\"albertus extra bold\", sans-serif',\n",
       "       u'\"albertus extra\", sans-serif', u'\"albertus\", sans-serif',\n",
       "       u'\"vntimes new roman\", sans-serif',\n",
       "       u'\"helvetica neue\", sans-serif', u'\"degrassi\", sans-serif',\n",
       "       u'\"hp simplified\", sans-serif', u'\"vnibandit\", sans-serif',\n",
       "       u'\"polo\", sans-serif', u'\"vni-eurasia\", sans-serif',\n",
       "       u'\"myriad web pro\", sans-serif', u'\"goudyolst bt\", sans-serif',\n",
       "       u'\"bookshelf symbol 2\", sans-serif', u'\"cd tahoma\", sans-serif',\n",
       "       u'\"open sans\", sans-serif', u'\"inkburrow\", sans-serif',\n",
       "       u'\"hp-helve-condense\", sans-serif',\n",
       "       u'\"univers condensed\", sans-serif', u'\"univers\", sans-serif',\n",
       "       u'\"vni-thienhoang\", sans-serif', u'\"bleeding cowboys\", sans-serif',\n",
       "       u'\"hl hoctro\", sans-serif', u'\"pn-time\", sans-serif',\n",
       "       u'\"yu gothic ui\", sans-serif',\n",
       "       u'\"batmanforeveralternate\", sans-serif',\n",
       "       u'\"amazone bt\", sans-serif', u'\"hp-dan truong\", sans-serif',\n",
       "       u'\"pt serif\", sans-serif', u'\"barcode font\", sans-serif',\n",
       "       u'\"blazed\", sans-serif', u'\"anastasia\", sans-serif',\n",
       "       u'\"vnarchitecture\", sans-serif', u'\"matisse itc\", sans-serif',\n",
       "       u'\"westminster\", sans-serif', u'\"gost common\", sans-serif',\n",
       "       u'\"utm edwardian\", sans-serif', u'\"vagrounded bt\", sans-serif',\n",
       "       u'\"lcd\", sans-serif', u'\"earwig factory\", sans-serif',\n",
       "       u'\"a charming font expanded\", sans-serif',\n",
       "       u'\"liberation sans narrow\", sans-serif',\n",
       "       u'\"nokia standard multiscript\", sans-serif',\n",
       "       u'\"mapinfo miscellaneous\", sans-serif',\n",
       "       u'\"officinasanitcmedium\", sans-serif', u'\"vu times\", sans-serif',\n",
       "       u'\"blood of dracula\", sans-serif',\n",
       "       u'\"comic book commando\", sans-serif', u'\"windsong\", sans-serif',\n",
       "       u'\"vnfriz\", sans-serif', u'\"schoolnet sans serif\", sans-serif',\n",
       "       u'\"courier10 bt\", sans-serif', u'\"baileyscar\", sans-serif',\n",
       "       u'\"it arial narrow\", sans-serif', u'\"vncommerce2\", sans-serif',\n",
       "       u'\"fiolex girls\", sans-serif', u'\"due date\", sans-serif',\n",
       "       u'\"barber shop\", sans-serif', u'\"kt001\", sans-serif',\n",
       "       u'\"a yummy apology\", sans-serif', u'\"cooper blk bt\", sans-serif',\n",
       "       u'\"fzshuti\", sans-serif', u'\"vni wed2\", sans-serif',\n",
       "       u'\"vnsvni2\", sans-serif', u'\"deftone stylus\", sans-serif',\n",
       "       u'\"kr heartalicious\", sans-serif', u'\"aliens\", sans-serif',\n",
       "       u'\"rapscallion\", sans-serif', u'\"alien league\", sans-serif',\n",
       "       u'\"swsimp\", sans-serif', u'\"tmc-holtzschue\", sans-serif',\n",
       "       u'\"belphebe\", sans-serif', u'\"presidentgas\", sans-serif',\n",
       "       u'\"vps times\", sans-serif', u'\"alphamack aoe\", sans-serif',\n",
       "       u'\"rixlovefool\", sans-serif',\n",
       "       u'\"vni 39 goodvibrationsrob\", sans-serif',\n",
       "       u'\"utm chickenhawk\", sans-serif', u'\"hggothice\", sans-serif',\n",
       "       u'\"guitar pro 5\", sans-serif', u'\"utm neo sans intel\", sans-serif',\n",
       "       u'\"boomerang\", sans-serif', u'\"neurochrome\", sans-serif',\n",
       "       u'\"squaredance10\", sans-serif', u'\"arial ce\", sans-serif',\n",
       "       u'\"vps times hoa\", sans-serif', u'\"maximillion\", sans-serif',\n",
       "       u'\"buffet script\", sans-serif',\n",
       "       u'\"code39azalearegular1\", sans-serif',\n",
       "       u'\"uvnvogue medium\", sans-serif', u'\"uvnvogue\", sans-serif',\n",
       "       u'\"esri cartography\", sans-serif', u'\"vffree50\", sans-serif',\n",
       "       u'\"sfu futura\", sans-serif', u'\"alfreddrake\", sans-serif',\n",
       "       u'\"uvnhelvetins medium\", sans-serif',\n",
       "       u'\"uvnhelvetins\", sans-serif', u'\"kievit offc pro\", sans-serif',\n",
       "       u'\"good times\", sans-serif', u'\"adriator\", sans-serif',\n",
       "       u'\"bullpen\", sans-serif', u'\"mael\", sans-serif',\n",
       "       u'\"beckett\", sans-serif', u'\"apple lisung\", sans-serif',\n",
       "       u'\"wc rhesus b bta\", sans-serif', u'\"maestro\", sans-serif',\n",
       "       u'\"cygnetround\", sans-serif', u'\"lithos pro\", sans-serif',\n",
       "       u'\"quake\", sans-serif', u'\"adinekirnberg-script\", sans-serif',\n",
       "       u'\"bn manson nights\", sans-serif', u'\"airstream\", sans-serif',\n",
       "       u'\"khmer os\", sans-serif', u'\"baby kruffy\", sans-serif',\n",
       "       u'\"autumn\", sans-serif', u'\"blackchancery\", sans-serif',\n",
       "       u'\"starcraft\", sans-serif', u'\"creepygirl\", sans-serif',\n",
       "       u'\"black rose\", sans-serif', u'\"idautomationhc39m\", sans-serif',\n",
       "       u'\"vni quangninh 2\", sans-serif', u'\"vnteknika\", sans-serif',\n",
       "       u'\"sesame\", sans-serif', u'\"bitstream vera sans mono\", sans-serif',\n",
       "       u'\"vni souvir\", sans-serif', u'\"ubuntu\", sans-serif',\n",
       "       u'\"aphrodite pro\", sans-serif', u'\"breathe pro\", sans-serif',\n",
       "       u'\"pj hiragana\", sans-serif', u'\"vfwedding34\", sans-serif',\n",
       "       u'\"digital-7\", sans-serif', u'\"ocr-b-seagull\", sans-serif'],\n",
       "      dtype=object)"
      ]
     },
     "execution_count": 38,
     "metadata": {},
     "output_type": "execute_result"
    }
   ],
   "source": [
    "js[\n",
    "    (js.symbol == 'CanvasRenderingContext2D.font') &\n",
    "    (js.script_ps1 != js.top_ps1) & \n",
    "    (js.script_ps1 == 'admicro.vn')\n",
    "].value.apply(lambda x: re.match(font_shorthand, x).group(6)).unique()"
   ]
  },
  {
   "cell_type": "code",
   "execution_count": null,
   "metadata": {},
   "outputs": [],
   "source": []
  }
 ],
 "metadata": {
  "kernelspec": {
   "display_name": "Python 2",
   "language": "python",
   "name": "python2"
  },
  "language_info": {
   "codemirror_mode": {
    "name": "ipython",
    "version": 2
   },
   "file_extension": ".py",
   "mimetype": "text/x-python",
   "name": "python",
   "nbconvert_exporter": "python",
   "pygments_lexer": "ipython2",
   "version": "2.7.12"
  }
 },
 "nbformat": 4,
 "nbformat_minor": 2
}
